{
 "cells": [
  {
   "cell_type": "code",
   "execution_count": 2,
   "metadata": {},
   "outputs": [],
   "source": [
    "import numpy as np"
   ]
  },
  {
   "cell_type": "code",
   "execution_count": 3,
   "metadata": {},
   "outputs": [],
   "source": [
    "M1,M2,M3 = np.random.uniform(0,10,3)"
   ]
  },
  {
   "cell_type": "code",
   "execution_count": 9,
   "metadata": {},
   "outputs": [],
   "source": [
    "myu1, myu2, myu3 = np.random.uniform(0,0.5,3)"
   ]
  },
  {
   "cell_type": "code",
   "execution_count": 13,
   "metadata": {},
   "outputs": [],
   "source": [
    "F = np.random.uniform(-300,300)"
   ]
  },
  {
   "cell_type": "code",
   "execution_count": 15,
   "metadata": {},
   "outputs": [],
   "source": [
    "g = 10"
   ]
  },
  {
   "cell_type": "code",
   "execution_count": 97,
   "metadata": {},
   "outputs": [],
   "source": [
    "A = np.array([\n",
    "    [1,-1,-1,0,0,0,0,0,0,0],\n",
    "    [0,0,1,1,1,0,0,M1,0,0],\n",
    "    [0,0,0,0,0,0,0,1,0,-1],\n",
    "    [0,0,1,0,0,-1,0,0,-M2,0],\n",
    "    [0,1,0,0,0,0,0,0,0,0,0],\n",
    "    [0,0,1,0,0,0,1,0,0,M3],\n",
    "    [0,0,0,1,0,0,0,-M3,0,0],\n",
    "    [myu1,0,0,0,-1,0,0,0,0,0],\n",
    "    [0,myu2,0,0,0,-1,0,0,0,0],\n",
    "    [0,0,0,myu3,0,0,-1,0,0,0]\n",
    "])"
   ]
  },
  {
   "cell_type": "code",
   "execution_count": 122,
   "metadata": {},
   "outputs": [],
   "source": [
    "G = np.array([[1,-1,-1,0,0,0,0,0,0,0],\n",
    "    [0,0,1,1,1,0,0,7,0,0],\n",
    "    [0,0,0,0,0,0,0,1,0,-1],\n",
    "    [0,0,1,0,0,-1,0,0,-8,0],\n",
    "    [0,1,0,0,0,0,0,0,0,0,0],\n",
    "    [0,0,1,0,0,0,1,0,0,0],\n",
    "    [0,0,0,1,0,0,0,-7,0,0],\n",
    "    [34,0,0,0,-1,0,0,0,0,0],\n",
    "    [0,45,0,0,0,-1,0,0,0,0],\n",
    "    [0,0,0,56,0,0,-1,0,0,0]])"
   ]
  },
  {
   "cell_type": "code",
   "execution_count": 123,
   "metadata": {},
   "outputs": [
    {
     "name": "stdout",
     "output_type": "stream",
     "text": [
      "<class 'list'>\n",
      "(10,)\n",
      "[list([1, -1, -1, 0, 0, 0, 0, 0, 0, 0])\n",
      " list([0, 0, 1, 1, 1, 0, 0, 7, 0, 0])\n",
      " list([0, 0, 0, 0, 0, 0, 0, 1, 0, -1])\n",
      " list([0, 0, 1, 0, 0, -1, 0, 0, -8, 0])\n",
      " list([0, 1, 0, 0, 0, 0, 0, 0, 0, 0, 0])\n",
      " list([0, 0, 1, 0, 0, 0, 1, 0, 0, 0])\n",
      " list([0, 0, 0, 1, 0, 0, 0, -7, 0, 0])\n",
      " list([34, 0, 0, 0, -1, 0, 0, 0, 0, 0])\n",
      " list([0, 45, 0, 0, 0, -1, 0, 0, 0, 0])\n",
      " list([0, 0, 0, 56, 0, 0, -1, 0, 0, 0])]\n"
     ]
    }
   ],
   "source": [
    "print(type(G[1]))\n",
    "print(G.shape)\n",
    "print(G)"
   ]
  },
  {
   "cell_type": "code",
   "execution_count": null,
   "metadata": {},
   "outputs": [],
   "source": []
  },
  {
   "cell_type": "code",
   "execution_count": 119,
   "metadata": {},
   "outputs": [
    {
     "name": "stdout",
     "output_type": "stream",
     "text": [
      "<class 'numpy.ndarray'>\n",
      "(10, 20)\n",
      "[[  1   3   1   1   1   1   1   1   1   1   1   3   1   1   1   1   1   1\n",
      "    1   1]\n",
      " [  1   3   1   1   1   1   1   1   1   1   1   3   1   1   1   1   1   1\n",
      "    1   1]\n",
      " [  1   3   1   1   1 -11   1   1   1   1   1   3   1   1   1   1   1   0\n",
      "    1   1]\n",
      " [  1   3   1   1   1   1   1   1   1   1   1   3   1   1   1   1   1   1\n",
      "    1   1]\n",
      " [  1   3   1   1   1   1   1   1   1   1   1   3   1   1   1   1   1   1\n",
      "    1   1]\n",
      " [  1   3   1   1   1   1   1   1   1   1   1   3   1   1   1   1   1   1\n",
      "    1   1]\n",
      " [  1   3   1   1   1   1   1   1   1   1   1   3   1   1   1   1   1   1\n",
      "    1   1]\n",
      " [  1   3   1   1   1   1   1   1   1   1   1   3   1   1   1   1   1   1\n",
      "    1   1]\n",
      " [  1   3   1   1   1   1   1   1   1   1   1   3   1   1   1   1   1   1\n",
      "    1   1]\n",
      " [ 23   4   1   1   1   1   1   1   1   1   1   3   1   1   1   1   1   1\n",
      "    1   1]]\n"
     ]
    }
   ],
   "source": [
    "f=np.array([[1,3,1,1,1,1,1,1,1,1,1,3,1,1,1,1,1,1,1,1],\n",
    "            [1,3,1,1,1,1,1,1,1,1,1,3,1,1,1,1,1,1,1,1],\n",
    "            [1,3,1,1,1,-11,1,1,1,1,1,3,1,1,1,1,1,0,1,1],\n",
    "            [1,3,1,1,1,1,1,1,1,1,1,3,1,1,1,1,1,1,1,1],\n",
    "            [1,3,1,1,1,1,1,1,1,1,1,3,1,1,1,1,1,1,1,1],\n",
    "            [1,3,1,1,1,1,1,1,1,1,1,3,1,1,1,1,1,1,1,1],\n",
    "            [1,3,1,1,1,1,1,1,1,1,1,3,1,1,1,1,1,1,1,1],\n",
    "            [1,3,1,1,1,1,1,1,1,1,1,3,1,1,1,1,1,1,1,1],\n",
    "            [1,3,1,1,1,1,1,1,1,1,1,3,1,1,1,1,1,1,1,1],\n",
    "          [23,4,1,1,1,1,1,1,1,1,1,3,1,1,1,1,1,1,1,1]])\n",
    "print(type(f[0]))\n",
    "print(f.shape)\n",
    "print(f)"
   ]
  },
  {
   "cell_type": "code",
   "execution_count": 115,
   "metadata": {},
   "outputs": [],
   "source": [
    "b=np.array([M1*g,\n",
    "   -F,\n",
    "   0,\n",
    "   0,\n",
    "   M2*g,\n",
    "   M3*g,\n",
    "   0,\n",
    "   0,\n",
    "   0,\n",
    "   0,\n",
    "  ])"
   ]
  },
  {
   "cell_type": "code",
   "execution_count": 82,
   "metadata": {},
   "outputs": [
    {
     "ename": "LinAlgError",
     "evalue": "1-dimensional array given. Array must be at least two-dimensional",
     "output_type": "error",
     "traceback": [
      "\u001b[1;31m---------------------------------------------------------------------------\u001b[0m",
      "\u001b[1;31mLinAlgError\u001b[0m                               Traceback (most recent call last)",
      "\u001b[1;32m<ipython-input-82-36718354ad3a>\u001b[0m in \u001b[0;36m<module>\u001b[1;34m\u001b[0m\n\u001b[1;32m----> 1\u001b[1;33m \u001b[0mnp\u001b[0m\u001b[1;33m.\u001b[0m\u001b[0mlinalg\u001b[0m\u001b[1;33m.\u001b[0m\u001b[0msolve\u001b[0m\u001b[1;33m(\u001b[0m\u001b[0mA\u001b[0m\u001b[1;33m,\u001b[0m\u001b[0mb\u001b[0m\u001b[1;33m)\u001b[0m\u001b[1;33m\u001b[0m\u001b[1;33m\u001b[0m\u001b[0m\n\u001b[0m",
      "\u001b[1;32m~\\Anaconda3\\lib\\site-packages\\numpy\\linalg\\linalg.py\u001b[0m in \u001b[0;36msolve\u001b[1;34m(a, b)\u001b[0m\n\u001b[0;32m    387\u001b[0m     \"\"\"\n\u001b[0;32m    388\u001b[0m     \u001b[0ma\u001b[0m\u001b[1;33m,\u001b[0m \u001b[0m_\u001b[0m \u001b[1;33m=\u001b[0m \u001b[0m_makearray\u001b[0m\u001b[1;33m(\u001b[0m\u001b[0ma\u001b[0m\u001b[1;33m)\u001b[0m\u001b[1;33m\u001b[0m\u001b[1;33m\u001b[0m\u001b[0m\n\u001b[1;32m--> 389\u001b[1;33m     \u001b[0m_assertRankAtLeast2\u001b[0m\u001b[1;33m(\u001b[0m\u001b[0ma\u001b[0m\u001b[1;33m)\u001b[0m\u001b[1;33m\u001b[0m\u001b[1;33m\u001b[0m\u001b[0m\n\u001b[0m\u001b[0;32m    390\u001b[0m     \u001b[0m_assertNdSquareness\u001b[0m\u001b[1;33m(\u001b[0m\u001b[0ma\u001b[0m\u001b[1;33m)\u001b[0m\u001b[1;33m\u001b[0m\u001b[1;33m\u001b[0m\u001b[0m\n\u001b[0;32m    391\u001b[0m     \u001b[0mb\u001b[0m\u001b[1;33m,\u001b[0m \u001b[0mwrap\u001b[0m \u001b[1;33m=\u001b[0m \u001b[0m_makearray\u001b[0m\u001b[1;33m(\u001b[0m\u001b[0mb\u001b[0m\u001b[1;33m)\u001b[0m\u001b[1;33m\u001b[0m\u001b[1;33m\u001b[0m\u001b[0m\n",
      "\u001b[1;32m~\\Anaconda3\\lib\\site-packages\\numpy\\linalg\\linalg.py\u001b[0m in \u001b[0;36m_assertRankAtLeast2\u001b[1;34m(*arrays)\u001b[0m\n\u001b[0;32m    205\u001b[0m         \u001b[1;32mif\u001b[0m \u001b[0ma\u001b[0m\u001b[1;33m.\u001b[0m\u001b[0mndim\u001b[0m \u001b[1;33m<\u001b[0m \u001b[1;36m2\u001b[0m\u001b[1;33m:\u001b[0m\u001b[1;33m\u001b[0m\u001b[1;33m\u001b[0m\u001b[0m\n\u001b[0;32m    206\u001b[0m             raise LinAlgError('%d-dimensional array given. Array must be '\n\u001b[1;32m--> 207\u001b[1;33m                     'at least two-dimensional' % a.ndim)\n\u001b[0m\u001b[0;32m    208\u001b[0m \u001b[1;33m\u001b[0m\u001b[0m\n\u001b[0;32m    209\u001b[0m \u001b[1;32mdef\u001b[0m \u001b[0m_assertNdSquareness\u001b[0m\u001b[1;33m(\u001b[0m\u001b[1;33m*\u001b[0m\u001b[0marrays\u001b[0m\u001b[1;33m)\u001b[0m\u001b[1;33m:\u001b[0m\u001b[1;33m\u001b[0m\u001b[1;33m\u001b[0m\u001b[0m\n",
      "\u001b[1;31mLinAlgError\u001b[0m: 1-dimensional array given. Array must be at least two-dimensional"
     ]
    }
   ],
   "source": [
    "np.linalg.solve(A,b)"
   ]
  },
  {
   "cell_type": "code",
   "execution_count": null,
   "metadata": {},
   "outputs": [],
   "source": []
  }
 ],
 "metadata": {
  "kernelspec": {
   "display_name": "Python 3",
   "language": "python",
   "name": "python3"
  },
  "language_info": {
   "codemirror_mode": {
    "name": "ipython",
    "version": 3
   },
   "file_extension": ".py",
   "mimetype": "text/x-python",
   "name": "python",
   "nbconvert_exporter": "python",
   "pygments_lexer": "ipython3",
   "version": "3.7.4"
  }
 },
 "nbformat": 4,
 "nbformat_minor": 2
}
