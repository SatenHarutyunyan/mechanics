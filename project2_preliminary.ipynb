{
 "cells": [
  {
   "cell_type": "code",
   "execution_count": 6,
   "metadata": {},
   "outputs": [],
   "source": [
    "import numpy as np\n",
    "import pandas as pd\n",
    "import plotly.express as px"
   ]
  },
  {
   "cell_type": "code",
   "execution_count": 7,
   "metadata": {},
   "outputs": [],
   "source": [
    "M1,M2,M3 = np.random.uniform(0,10,3)"
   ]
  },
  {
   "cell_type": "code",
   "execution_count": 8,
   "metadata": {},
   "outputs": [],
   "source": [
    "myu1, myu2, myu3 = np.random.uniform(0,0.5,3)"
   ]
  },
  {
   "cell_type": "code",
   "execution_count": 9,
   "metadata": {},
   "outputs": [],
   "source": [
    "g = 10"
   ]
  },
  {
   "cell_type": "code",
   "execution_count": 29,
   "metadata": {},
   "outputs": [],
   "source": [
    "dt = 1      #stepsize\n",
    "n = 6         #number of time points\n",
    "T = dt * n       #endpoint\n",
    "t= np.arange(0,T,dt) # n= 6"
   ]
  },
  {
   "cell_type": "code",
   "execution_count": 11,
   "metadata": {},
   "outputs": [],
   "source": [
    "F = np.random.uniform(-300,300)"
   ]
  },
  {
   "cell_type": "code",
   "execution_count": 12,
   "metadata": {
    "scrolled": true
   },
   "outputs": [
    {
     "name": "stdout",
     "output_type": "stream",
     "text": [
      "(10, 10)\n"
     ]
    }
   ],
   "source": [
    "A = np.array([\n",
    "    [1,-1,-1,0,0,0,0,0,0,0],\n",
    "    [0,0,1,1,1,0,0,M1,0,0],\n",
    "    [0,0,0,0,0,0,0,1,0,-1],\n",
    "    [0,0,1,0,0,-1,0,0,-M2,0],\n",
    "    [0,1,0,0,0,0,0,0,0,0],\n",
    "    [0,0,1,0,0,0,1,0,0,M3],\n",
    "    [0,0,0,1,0,0,0,-M3,0,0],\n",
    "    [myu1,0,0,0,-1,0,0,0,0,0],\n",
    "    [0,myu2,0,0,0,-1,0,0,0,0],\n",
    "    [0,0,0,myu3,0,0,-1,0,0,0]\n",
    "])\n",
    "print(A.shape)"
   ]
  },
  {
   "cell_type": "code",
   "execution_count": 13,
   "metadata": {},
   "outputs": [
    {
     "data": {
      "text/plain": [
       "(10,)"
      ]
     },
     "execution_count": 13,
     "metadata": {},
     "output_type": "execute_result"
    }
   ],
   "source": [
    "b=np.array(\n",
    "  [M1*g,\n",
    "   -F,\n",
    "   0,\n",
    "   0,\n",
    "   M2*g,\n",
    "   M3*g,\n",
    "   0,\n",
    "   0,\n",
    "   0,\n",
    "   0,\n",
    "  ])\n",
    "b.shape"
   ]
  },
  {
   "cell_type": "code",
   "execution_count": 14,
   "metadata": {},
   "outputs": [],
   "source": [
    "inverse_A = np.linalg.inv(A)"
   ]
  },
  {
   "cell_type": "code",
   "execution_count": 15,
   "metadata": {},
   "outputs": [],
   "source": [
    "X= inverse_A.dot(b)"
   ]
  },
  {
   "cell_type": "code",
   "execution_count": 17,
   "metadata": {},
   "outputs": [
    {
     "name": "stdout",
     "output_type": "stream",
     "text": [
      "(10,)\n"
     ]
    }
   ],
   "source": [
    "print(X.shape)\n",
    "#print(type(X))\n",
    "#print(X)"
   ]
  },
  {
   "cell_type": "code",
   "execution_count": 18,
   "metadata": {},
   "outputs": [],
   "source": [
    "N1 = X[0]\n",
    "N2 = X[1]\n",
    "T = X[2]\n",
    "F1 = X[3]\n",
    "f1 = X[4]\n",
    "f2 = X[5]\n",
    "f3 = X[6]\n",
    "a1 = X[7]\n",
    "a2 = X[8]\n",
    "a3 = X[9]"
   ]
  },
  {
   "cell_type": "code",
   "execution_count": 30,
   "metadata": {},
   "outputs": [],
   "source": [
    "X_1 = a1 *t**2/ 2 \n",
    "Y_1 = 1\n",
    "\n",
    "X_2 = a2 *t**2/ 2 \n",
    "Y_2 = 3\n",
    "\n",
    "X_3 = X_1 + 2\n",
    "Y_3 = a3 *t**2/ 2 \n"
   ]
  },
  {
   "cell_type": "code",
   "execution_count": 31,
   "metadata": {},
   "outputs": [],
   "source": [
    "data = { \"X_1\":X_1,\"Y_1\":Y_1,\"X_2\":X_2,\"Y_2\":Y_2, \"X_3\":X_3,\"Y_3\":Y_3,}"
   ]
  },
  {
   "cell_type": "code",
   "execution_count": 33,
   "metadata": {},
   "outputs": [
    {
     "data": {
      "text/plain": [
       "0    -0.000000\n",
       "1    -0.861158\n",
       "2    -3.444633\n",
       "3    -7.750424\n",
       "4   -13.778531\n",
       "5   -21.528955\n",
       "Name: X_1, dtype: float64"
      ]
     },
     "execution_count": 33,
     "metadata": {},
     "output_type": "execute_result"
    }
   ],
   "source": [
    "df = pd.DataFrame(data)\n"
   ]
  },
  {
   "cell_type": "code",
   "execution_count": null,
   "metadata": {
    "collapsed": true
   },
   "outputs": [],
   "source": []
  }
 ],
 "metadata": {
  "kernelspec": {
   "display_name": "Python 3",
   "language": "python",
   "name": "python3"
  },
  "language_info": {
   "codemirror_mode": {
    "name": "ipython",
    "version": 3
   },
   "file_extension": ".py",
   "mimetype": "text/x-python",
   "name": "python",
   "nbconvert_exporter": "python",
   "pygments_lexer": "ipython3",
   "version": "3.7.4"
  }
 },
 "nbformat": 4,
 "nbformat_minor": 2
}
